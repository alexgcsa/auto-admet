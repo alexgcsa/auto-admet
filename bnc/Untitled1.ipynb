{
 "cells": [
  {
   "cell_type": "code",
   "execution_count": 10,
   "id": "cc87117b-fc39-4f60-b6f6-dd0ae2e19979",
   "metadata": {},
   "outputs": [],
   "source": [
    "import pyAgrum as gum\n",
    "import pyAgrum.lib.notebook as gnb\n",
    "from pyAgrum.lib import image\n",
    "\n",
    "# Create a Bayesian Network\n",
    "bn = gum.BayesNet(\"Example\")\n",
    "bn.add(gum.LabelizedVariable(\"A\", \"Node A\", 2))\n",
    "bn.add(gum.LabelizedVariable(\"B\", \"Node B\", 2))\n",
    "bn.addArc(\"A\", \"B\")\n",
    "\n",
    "\n",
    "\n",
    "\n",
    "image.export(bn,\"/home/alexgcsa/test_export.png\")"
   ]
  },
  {
   "cell_type": "code",
   "execution_count": null,
   "id": "c52ab837-fbb8-48ab-986f-a3bd2aa7e03d",
   "metadata": {},
   "outputs": [],
   "source": []
  }
 ],
 "metadata": {
  "kernelspec": {
   "display_name": "Python 3 (ipykernel)",
   "language": "python",
   "name": "python3"
  },
  "language_info": {
   "codemirror_mode": {
    "name": "ipython",
    "version": 3
   },
   "file_extension": ".py",
   "mimetype": "text/x-python",
   "name": "python",
   "nbconvert_exporter": "python",
   "pygments_lexer": "ipython3",
   "version": "3.12.9"
  }
 },
 "nbformat": 4,
 "nbformat_minor": 5
}
