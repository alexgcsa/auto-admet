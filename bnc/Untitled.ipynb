{
 "cells": [
  {
   "cell_type": "code",
   "execution_count": 2,
   "id": "3c6a467c-7390-4a4d-b1e5-9d4fcb63a086",
   "metadata": {},
   "outputs": [],
   "source": [
    "from pyAgrum.skbn import BNClassifier\n",
    "import pyAgrum.skbn._MBCalcul as mbcalcul\n",
    "import pandas as pd\n",
    "import pyAgrum as gum\n",
    "import pyAgrum.lib.notebook as gnb"
   ]
  },
  {
   "cell_type": "code",
   "execution_count": 100,
   "id": "d2450fb0-7bed-478f-8b9a-18946a1eac7c",
   "metadata": {},
   "outputs": [],
   "source": [
    "bnc = BNClassifier(learningMethod='GHC', scoringType='BIC')"
   ]
  },
  {
   "cell_type": "code",
   "execution_count": 118,
   "id": "bbfcc104-de27-4d58-89b3-5eae96fcb08d",
   "metadata": {},
   "outputs": [],
   "source": [
    "df = pd.read_csv(\"/home/alexgcsa/auto-admet/data_bnc3.3.csv\", header=0, sep=\",\")"
   ]
  },
  {
   "cell_type": "code",
   "execution_count": 119,
   "id": "f0010589-f6cd-4954-9ea9-1bffd7012056",
   "metadata": {},
   "outputs": [],
   "source": [
    "X = df\n",
    "y = df[\"class\"]\n",
    "X = X.drop(\"class\", axis=1)\n",
    "X = X.drop(\"main_building_blocks\", axis=1)\n",
    "X = X.drop(\"performance\", axis=1)"
   ]
  },
  {
   "cell_type": "code",
   "execution_count": 120,
   "id": "440b288e-6e60-4a21-9863-36c072253478",
   "metadata": {},
   "outputs": [],
   "source": [
    "bnc.fit(X, y)"
   ]
  },
  {
   "cell_type": "code",
   "execution_count": 121,
   "id": "9b08168d-280d-47ca-991d-7477229be248",
   "metadata": {},
   "outputs": [
    {
     "data": {
      "text/html": [
       "<svg xmlns=\"http://www.w3.org/2000/svg\" xmlns:xlink=\"http://www.w3.org/1999/xlink\" width=\"358pt\" height=\"188pt\" viewBox=\"0.00 0.00 358.39 188.00\">\n",
       "<g id=\"graph0\" class=\"graph\" transform=\"scale(1 1) rotate(0) translate(4 184)\">\n",
       "<title>G</title>\n",
       "<!-- Advanced_Descriptors -->\n",
       "<g id=\"node1\" class=\"node\">\n",
       "<title>Advanced_Descriptors</title>\n",
       "<g id=\"a_node1\"><a xlink:title=\"(2) Advanced_Descriptors\">\n",
       "<ellipse fill=\"#404040\" stroke=\"#4a4a4a\" cx=\"114.39\" cy=\"-162\" rx=\"114.28\" ry=\"18\"/>\n",
       "<text text-anchor=\"middle\" x=\"114.39\" y=\"-158.3\" font-family=\"Times,serif\" font-size=\"14.00\" fill=\"white\">Advanced_Descriptors</text>\n",
       "</a>\n",
       "</g>\n",
       "</g>\n",
       "<!-- class -->\n",
       "<g id=\"node2\" class=\"node\">\n",
       "<title>class</title>\n",
       "<g id=\"a_node2\"><a xlink:title=\"(0) class\">\n",
       "<ellipse fill=\"#404040\" stroke=\"#4a4a4a\" cx=\"206.39\" cy=\"-90\" rx=\"33.6\" ry=\"18\"/>\n",
       "<text text-anchor=\"middle\" x=\"206.39\" y=\"-86.3\" font-family=\"Times,serif\" font-size=\"14.00\" fill=\"white\">class</text>\n",
       "</a>\n",
       "</g>\n",
       "</g>\n",
       "<!-- Advanced_Descriptors&#45;&gt;class -->\n",
       "<g id=\"edge2\" class=\"edge\">\n",
       "<title>Advanced_Descriptors-&gt;class</title>\n",
       "<g id=\"a_edge2\"><a xlink:title=\"2 → 0\">\n",
       "<path fill=\"none\" stroke=\"#4a4a4a\" d=\"M136.66,-144.05C149.61,-134.2 166.01,-121.72 179.65,-111.34\"/>\n",
       "<polygon fill=\"#4a4a4a\" stroke=\"#4a4a4a\" points=\"181.9,-114.04 187.73,-105.19 177.66,-108.46 181.9,-114.04\"/>\n",
       "</a>\n",
       "</g>\n",
       "</g>\n",
       "<!-- robust_scaler -->\n",
       "<g id=\"node3\" class=\"node\">\n",
       "<title>robust_scaler</title>\n",
       "<g id=\"a_node3\"><a xlink:title=\"(1) robust_scaler\">\n",
       "<ellipse fill=\"#404040\" stroke=\"#4a4a4a\" cx=\"206.39\" cy=\"-18\" rx=\"73.39\" ry=\"18\"/>\n",
       "<text text-anchor=\"middle\" x=\"206.39\" y=\"-14.3\" font-family=\"Times,serif\" font-size=\"14.00\" fill=\"white\">robust_scaler</text>\n",
       "</a>\n",
       "</g>\n",
       "</g>\n",
       "<!-- class&#45;&gt;robust_scaler -->\n",
       "<g id=\"edge1\" class=\"edge\">\n",
       "<title>class-&gt;robust_scaler</title>\n",
       "<g id=\"a_edge1\"><a xlink:title=\"0 → 1\">\n",
       "<path fill=\"none\" stroke=\"#4a4a4a\" d=\"M206.39,-71.7C206.39,-63.98 206.39,-54.71 206.39,-46.11\"/>\n",
       "<polygon fill=\"#4a4a4a\" stroke=\"#4a4a4a\" points=\"209.89,-46.1 206.39,-36.1 202.89,-46.1 209.89,-46.1\"/>\n",
       "</a>\n",
       "</g>\n",
       "</g>\n",
       "<!-- selectfpr -->\n",
       "<g id=\"node4\" class=\"node\">\n",
       "<title>selectfpr</title>\n",
       "<g id=\"a_node4\"><a xlink:title=\"(3) selectfpr\">\n",
       "<ellipse fill=\"#404040\" stroke=\"#4a4a4a\" cx=\"298.39\" cy=\"-162\" rx=\"51.99\" ry=\"18\"/>\n",
       "<text text-anchor=\"middle\" x=\"298.39\" y=\"-158.3\" font-family=\"Times,serif\" font-size=\"14.00\" fill=\"white\">selectfpr</text>\n",
       "</a>\n",
       "</g>\n",
       "</g>\n",
       "<!-- selectfpr&#45;&gt;class -->\n",
       "<g id=\"edge3\" class=\"edge\">\n",
       "<title>selectfpr-&gt;class</title>\n",
       "<g id=\"a_edge3\"><a xlink:title=\"3 → 0\">\n",
       "<path fill=\"none\" stroke=\"#4a4a4a\" d=\"M277.51,-145.12C264.43,-135.16 247.44,-122.23 233.34,-111.51\"/>\n",
       "<polygon fill=\"#4a4a4a\" stroke=\"#4a4a4a\" points=\"235.08,-108.43 225,-105.16 230.84,-114 235.08,-108.43\"/>\n",
       "</a>\n",
       "</g>\n",
       "</g>\n",
       "</g>\n",
       "</svg>"
      ],
      "text/plain": [
       "(pyAgrum.BayesNet@0x2c357b00) BN{nodes: 4, arcs: 3, domainSize: 16, dim: 8, mem: 128o}"
      ]
     },
     "execution_count": 121,
     "metadata": {},
     "output_type": "execute_result"
    }
   ],
   "source": [
    "# Get the Markov Blanket\n",
    "bn = bnc.bn\n",
    "mb = mbcalcul.compileMarkovBlanket(bn, \"class\")\n",
    "\n",
    "mb"
   ]
  },
  {
   "cell_type": "code",
   "execution_count": 113,
   "id": "f2601314-3946-4dd1-b487-444e47bf707c",
   "metadata": {},
   "outputs": [
    {
     "name": "stdout",
     "output_type": "stream",
     "text": [
      "normalizer\n"
     ]
    }
   ],
   "source": [
    "print(list(mb)[1][1])"
   ]
  },
  {
   "cell_type": "code",
   "execution_count": 55,
   "id": "cb26f7e6-a1d5-41e4-a5d3-39305e1b00df",
   "metadata": {},
   "outputs": [
    {
     "name": "stdout",
     "output_type": "stream",
     "text": [
      "The list is empty\n"
     ]
    }
   ],
   "source": [
    "my_list = []\n",
    "\n",
    "if my_list:\n",
    "    print(\"The list is not empty\")\n",
    "else:\n",
    "    print(\"The list is empty\")"
   ]
  },
  {
   "cell_type": "code",
   "execution_count": 15,
   "id": "e97418d3-cfd7-473e-b613-30202d4df9ed",
   "metadata": {},
   "outputs": [
    {
     "name": "stdout",
     "output_type": "stream",
     "text": [
      "All are True\n"
     ]
    }
   ],
   "source": [
    "test_representation = True\n",
    "test_scaling = True\n",
    "test_feature_selection = True\n",
    "test_ml_algorithm = True\n",
    "\n",
    "if test_representation and test_scaling and test_feature_selection and test_ml_algorithm:\n",
    "    print(\"All are True\")\n",
    "else:\n",
    "    print(\"At least one is False\")"
   ]
  },
  {
   "cell_type": "code",
   "execution_count": null,
   "id": "c9f844f6-a2fc-4b7f-a8f1-9f570c6903f7",
   "metadata": {},
   "outputs": [],
   "source": []
  }
 ],
 "metadata": {
  "kernelspec": {
   "display_name": "Python 3 (ipykernel)",
   "language": "python",
   "name": "python3"
  },
  "language_info": {
   "codemirror_mode": {
    "name": "ipython",
    "version": 3
   },
   "file_extension": ".py",
   "mimetype": "text/x-python",
   "name": "python",
   "nbconvert_exporter": "python",
   "pygments_lexer": "ipython3",
   "version": "3.12.9"
  }
 },
 "nbformat": 4,
 "nbformat_minor": 5
}
