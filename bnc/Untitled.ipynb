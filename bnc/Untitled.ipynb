{
 "cells": [
  {
   "cell_type": "code",
   "execution_count": 1,
   "id": "3c6a467c-7390-4a4d-b1e5-9d4fcb63a086",
   "metadata": {},
   "outputs": [],
   "source": []
  },
  {
   "cell_type": "code",
   "execution_count": 2,
   "id": "d2450fb0-7bed-478f-8b9a-18946a1eac7c",
   "metadata": {},
   "outputs": [],
   "source": [
    "bnc = BNClassifier(learningMethod='GHC', scoringType='BIC')"
   ]
  },
  {
   "cell_type": "code",
   "execution_count": 3,
   "id": "bbfcc104-de27-4d58-89b3-5eae96fcb08d",
   "metadata": {},
   "outputs": [],
   "source": [
    "df = pd.read_csv(\"/home/alexgcsa/auto-admet/data_bnc2.csv\", header=0, sep=\",\")"
   ]
  },
  {
   "cell_type": "code",
   "execution_count": 4,
   "id": "f0010589-f6cd-4954-9ea9-1bffd7012056",
   "metadata": {},
   "outputs": [],
   "source": [
    "X = df\n",
    "y = df[\"class\"]\n",
    "X = X.drop(\"class\", axis=1)\n",
    "X = X.drop(\"main_building_blocks\", axis=1)\n",
    "X = X.drop(\"performance\", axis=1)"
   ]
  },
  {
   "cell_type": "code",
   "execution_count": 5,
   "id": "440b288e-6e60-4a21-9863-36c072253478",
   "metadata": {},
   "outputs": [],
   "source": [
    "bnc.fit(X, y)"
   ]
  },
  {
   "cell_type": "code",
   "execution_count": 6,
   "id": "9b08168d-280d-47ca-991d-7477229be248",
   "metadata": {},
   "outputs": [
    {
     "data": {
      "text/html": [
       "<svg xmlns=\"http://www.w3.org/2000/svg\" xmlns:xlink=\"http://www.w3.org/1999/xlink\" width=\"151pt\" height=\"116pt\" viewBox=\"0.00 0.00 150.99 116.00\">\n",
       "<g id=\"graph0\" class=\"graph\" transform=\"scale(1 1) rotate(0) translate(4 112)\">\n",
       "<title>G</title>\n",
       "<!-- Toxicophores -->\n",
       "<g id=\"node1\" class=\"node\">\n",
       "<title>Toxicophores</title>\n",
       "<g id=\"a_node1\"><a xlink:title=\"(2) Toxicophores\">\n",
       "<ellipse fill=\"#404040\" stroke=\"#4a4a4a\" cx=\"71.49\" cy=\"-90\" rx=\"71.49\" ry=\"18\"/>\n",
       "<text text-anchor=\"middle\" x=\"71.49\" y=\"-86.3\" font-family=\"Times,serif\" font-size=\"14.00\" fill=\"white\">Toxicophores</text>\n",
       "</a>\n",
       "</g>\n",
       "</g>\n",
       "<!-- selectfpr -->\n",
       "<g id=\"node2\" class=\"node\">\n",
       "<title>selectfpr</title>\n",
       "<g id=\"a_node2\"><a xlink:title=\"(1) selectfpr\">\n",
       "<ellipse fill=\"#404040\" stroke=\"#4a4a4a\" cx=\"71.49\" cy=\"-18\" rx=\"51.99\" ry=\"18\"/>\n",
       "<text text-anchor=\"middle\" x=\"71.49\" y=\"-14.3\" font-family=\"Times,serif\" font-size=\"14.00\" fill=\"white\">selectfpr</text>\n",
       "</a>\n",
       "</g>\n",
       "</g>\n",
       "<!-- Toxicophores&#45;&gt;selectfpr -->\n",
       "<g id=\"edge1\" class=\"edge\">\n",
       "<title>Toxicophores-&gt;selectfpr</title>\n",
       "<g id=\"a_edge1\"><a xlink:title=\"2 → 1\">\n",
       "<path fill=\"none\" stroke=\"#4a4a4a\" d=\"M71.49,-71.7C71.49,-63.98 71.49,-54.71 71.49,-46.11\"/>\n",
       "<polygon fill=\"#4a4a4a\" stroke=\"#4a4a4a\" points=\"74.99,-46.1 71.49,-36.1 67.99,-46.1 74.99,-46.1\"/>\n",
       "</a>\n",
       "</g>\n",
       "</g>\n",
       "</g>\n",
       "</svg>"
      ],
      "text/plain": [
       "(pyAgrum.BayesNet@0x2e282300) BN{nodes: 2, arcs: 1, domainSize: 4, dim: 3, mem: 48o}"
      ]
     },
     "execution_count": 6,
     "metadata": {},
     "output_type": "execute_result"
    }
   ],
   "source": [
    "# Get the Markov Blanket\n",
    "bn = bnc.bn\n",
    "mb = mbcalcul.compileMarkovBlanket(bn, \"class\")\n",
    "mb.erase(\"class\")\n",
    "mb"
   ]
  },
  {
   "cell_type": "code",
   "execution_count": 11,
   "id": "f2601314-3946-4dd1-b487-444e47bf707c",
   "metadata": {},
   "outputs": [
    {
     "name": "stdout",
     "output_type": "stream",
     "text": [
      "Toxicophores\n"
     ]
    }
   ],
   "source": [
    "print(list(mb)[1][1])"
   ]
  },
  {
   "cell_type": "code",
   "execution_count": 13,
   "id": "cb26f7e6-a1d5-41e4-a5d3-39305e1b00df",
   "metadata": {},
   "outputs": [
    {
     "name": "stdout",
     "output_type": "stream",
     "text": [
      "The list is empty\n"
     ]
    }
   ],
   "source": [
    "my_list = []\n",
    "\n",
    "if my_list:\n",
    "    print(\"The list is not empty\")\n",
    "else:\n",
    "    print(\"The list is empty\")"
   ]
  },
  {
   "cell_type": "code",
   "execution_count": 15,
   "id": "e97418d3-cfd7-473e-b613-30202d4df9ed",
   "metadata": {},
   "outputs": [
    {
     "name": "stdout",
     "output_type": "stream",
     "text": [
      "All are True\n"
     ]
    }
   ],
   "source": [
    "test_representation = True\n",
    "test_scaling = True\n",
    "test_feature_selection = True\n",
    "test_ml_algorithm = True\n",
    "\n",
    "if test_representation and test_scaling and test_feature_selection and test_ml_algorithm:\n",
    "    print(\"All are True\")\n",
    "else:\n",
    "    print(\"At least one is False\")"
   ]
  },
  {
   "cell_type": "code",
   "execution_count": null,
   "id": "c9f844f6-a2fc-4b7f-a8f1-9f570c6903f7",
   "metadata": {},
   "outputs": [],
   "source": []
  }
 ],
 "metadata": {
  "kernelspec": {
   "display_name": "Python 3 (ipykernel)",
   "language": "python",
   "name": "python3"
  },
  "language_info": {
   "codemirror_mode": {
    "name": "ipython",
    "version": 3
   },
   "file_extension": ".py",
   "mimetype": "text/x-python",
   "name": "python",
   "nbconvert_exporter": "python",
   "pygments_lexer": "ipython3",
   "version": "3.12.9"
  }
 },
 "nbformat": 4,
 "nbformat_minor": 5
}
