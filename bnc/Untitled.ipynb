{
 "cells": [
  {
   "cell_type": "code",
   "execution_count": 62,
   "id": "3c6a467c-7390-4a4d-b1e5-9d4fcb63a086",
   "metadata": {},
   "outputs": [],
   "source": [
    "from pyAgrum.skbn import BNClassifier\n",
    "import pyAgrum.skbn._MBCalcul as mbcalcul\n",
    "import pandas as pd\n",
    "import pyAgrum as gum\n",
    "import pyAgrum.lib.notebook as gnb"
   ]
  },
  {
   "cell_type": "code",
   "execution_count": 47,
   "id": "d2450fb0-7bed-478f-8b9a-18946a1eac7c",
   "metadata": {},
   "outputs": [],
   "source": [
    "bnc = BNClassifier(learningMethod='GHC', scoringType='BIC')"
   ]
  },
  {
   "cell_type": "code",
   "execution_count": 48,
   "id": "bbfcc104-de27-4d58-89b3-5eae96fcb08d",
   "metadata": {},
   "outputs": [],
   "source": [
    "df = pd.read_csv(\"/home/alexgcsa/data_bnc7.csv\", header=0, sep=\",\")"
   ]
  },
  {
   "cell_type": "code",
   "execution_count": 49,
   "id": "f0010589-f6cd-4954-9ea9-1bffd7012056",
   "metadata": {},
   "outputs": [],
   "source": [
    "X = df\n",
    "y = df[\"class\"]\n",
    "X = X.drop(\"class\", axis=1)"
   ]
  },
  {
   "cell_type": "code",
   "execution_count": 50,
   "id": "440b288e-6e60-4a21-9863-36c072253478",
   "metadata": {},
   "outputs": [],
   "source": [
    "bnc.fit(X, y)"
   ]
  },
  {
   "cell_type": "code",
   "execution_count": 73,
   "id": "9b08168d-280d-47ca-991d-7477229be248",
   "metadata": {},
   "outputs": [
    {
     "name": "stdout",
     "output_type": "stream",
     "text": [
      "BN{nodes: 3, arcs: 1, domainSize: 8, dim: 4, mem: 64o}\n"
     ]
    }
   ],
   "source": [
    "bn = bnc.bn\n",
    "mb = mbcalcul.compileMarkovBlanket(bn, \"class\")\n",
    "mb.erase(\"class\")\n",
    "print(mb)"
   ]
  },
  {
   "cell_type": "code",
   "execution_count": 46,
   "id": "f2601314-3946-4dd1-b487-444e47bf707c",
   "metadata": {},
   "outputs": [
    {
     "ename": "TypeError",
     "evalue": "in method 'DiscreteVariable_index', argument 2 of type 'std::string const &'",
     "output_type": "error",
     "traceback": [
      "\u001b[0;31m---------------------------------------------------------------------------\u001b[0m",
      "\u001b[0;31mTypeError\u001b[0m                                 Traceback (most recent call last)",
      "\u001b[0;32m/tmp/ipykernel_158828/308661628.py\u001b[0m in \u001b[0;36m?\u001b[0;34m()\u001b[0m\n\u001b[0;32m----> 1\u001b[0;31m \u001b[0mbnc\u001b[0m\u001b[0;34m.\u001b[0m\u001b[0mbn\u001b[0m\u001b[0;34m[\u001b[0m\u001b[0;36m25\u001b[0m\u001b[0;34m]\u001b[0m\u001b[0;34m[\u001b[0m\u001b[0;36m0\u001b[0m\u001b[0;34m]\u001b[0m\u001b[0;34m\u001b[0m\u001b[0;34m\u001b[0m\u001b[0m\n\u001b[0m",
      "\u001b[0;32m~/anaconda3/envs/bnc/lib/python3.13/site-packages/pyAgrum/pyAgrum.py\u001b[0m in \u001b[0;36m?\u001b[0;34m(self, label)\u001b[0m\n\u001b[1;32m   2667\u001b[0m     \u001b[0;32mdef\u001b[0m \u001b[0m__getitem__\u001b[0m\u001b[0;34m(\u001b[0m\u001b[0mself\u001b[0m\u001b[0;34m,\u001b[0m\u001b[0mlabel\u001b[0m\u001b[0;34m)\u001b[0m\u001b[0;34m:\u001b[0m   \u001b[0;31m# adding the y() function here\u001b[0m\u001b[0;34m\u001b[0m\u001b[0;34m\u001b[0m\u001b[0m\n\u001b[0;32m-> 2668\u001b[0;31m         \u001b[0;32mreturn\u001b[0m \u001b[0mself\u001b[0m\u001b[0;34m.\u001b[0m\u001b[0mindex\u001b[0m\u001b[0;34m(\u001b[0m\u001b[0mlabel\u001b[0m\u001b[0;34m)\u001b[0m\u001b[0;34m\u001b[0m\u001b[0;34m\u001b[0m\u001b[0m\n\u001b[0m",
      "\u001b[0;32m~/anaconda3/envs/bnc/lib/python3.13/site-packages/pyAgrum/pyAgrum.py\u001b[0m in \u001b[0;36m?\u001b[0;34m(self, label)\u001b[0m\n\u001b[1;32m   2586\u001b[0m         \u001b[0mint\u001b[0m\u001b[0;34m\u001b[0m\u001b[0;34m\u001b[0m\u001b[0m\n\u001b[1;32m   2587\u001b[0m                 \u001b[0mthe\u001b[0m \u001b[0mindice\u001b[0m \u001b[0mof\u001b[0m \u001b[0mthe\u001b[0m \u001b[0mlabel\u001b[0m\u001b[0;34m\u001b[0m\u001b[0;34m\u001b[0m\u001b[0m\n\u001b[1;32m   2588\u001b[0m \u001b[0;34m\u001b[0m\u001b[0m\n\u001b[1;32m   2589\u001b[0m         \"\"\"\n\u001b[0;32m-> 2590\u001b[0;31m         \u001b[0;32mreturn\u001b[0m \u001b[0m_pyAgrum\u001b[0m\u001b[0;34m.\u001b[0m\u001b[0mDiscreteVariable_index\u001b[0m\u001b[0;34m(\u001b[0m\u001b[0mself\u001b[0m\u001b[0;34m,\u001b[0m \u001b[0mlabel\u001b[0m\u001b[0;34m)\u001b[0m\u001b[0;34m\u001b[0m\u001b[0;34m\u001b[0m\u001b[0m\n\u001b[0m",
      "\u001b[0;31mTypeError\u001b[0m: in method 'DiscreteVariable_index', argument 2 of type 'std::string const &'"
     ]
    }
   ],
   "source": [
    "bnc.bn[25]"
   ]
  },
  {
   "cell_type": "code",
   "execution_count": null,
   "id": "cb26f7e6-a1d5-41e4-a5d3-39305e1b00df",
   "metadata": {},
   "outputs": [],
   "source": []
  }
 ],
 "metadata": {
  "kernelspec": {
   "display_name": "Python 3 (ipykernel)",
   "language": "python",
   "name": "python3"
  },
  "language_info": {
   "codemirror_mode": {
    "name": "ipython",
    "version": 3
   },
   "file_extension": ".py",
   "mimetype": "text/x-python",
   "name": "python",
   "nbconvert_exporter": "python",
   "pygments_lexer": "ipython3",
   "version": "3.13.2"
  }
 },
 "nbformat": 4,
 "nbformat_minor": 5
}
